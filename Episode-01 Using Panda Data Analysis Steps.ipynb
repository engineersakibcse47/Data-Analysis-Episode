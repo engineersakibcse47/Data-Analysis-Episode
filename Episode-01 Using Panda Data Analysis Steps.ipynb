{
 "cells": [
  {
   "cell_type": "markdown",
   "metadata": {},
   "source": [
    "# Welcome to the Ultimate Pandas Introduction Tutorial\n",
    "\n",
    "[<img src=\"https://www.pinclipart.com/picdir/big/367-3678882_python-logo-clipart-easy-pandas-python-logo-png.png\" width=\"250\"/>](image.png)\n",
    "\n",
    "Learn the basics on the pandas python library in this tutorial!\n"
   ]
  },
  {
   "cell_type": "code",
   "execution_count": null,
   "metadata": {
    "execution": {
     "iopub.execute_input": "2021-12-26T17:12:28.988528Z",
     "iopub.status.busy": "2021-12-26T17:12:28.98775Z",
     "iopub.status.idle": "2021-12-26T17:12:28.994817Z",
     "shell.execute_reply": "2021-12-26T17:12:28.993792Z",
     "shell.execute_reply.started": "2021-12-26T17:12:28.988439Z"
    }
   },
   "outputs": [],
   "source": [
    "import pandas as pd\n",
    "import numpy as np\n",
    "import datetime as dt\n",
    "from pandas_profiling import ProfileReport\n",
    "import matplotlib.pylab as plt\n",
    "plt.style.use('ggplot')\n",
    "pd.set_option('max_columns', 200)"
   ]
  },
  {
   "cell_type": "markdown",
   "metadata": {},
   "source": [
    "## Series"
   ]
  },
  {
   "cell_type": "code",
   "execution_count": null,
   "metadata": {
    "execution": {
     "iopub.execute_input": "2021-12-26T17:12:28.999988Z",
     "iopub.status.busy": "2021-12-26T17:12:28.999744Z",
     "iopub.status.idle": "2021-12-26T17:12:29.016076Z",
     "shell.execute_reply": "2021-12-26T17:12:29.015372Z",
     "shell.execute_reply.started": "2021-12-26T17:12:28.999964Z"
    }
   },
   "outputs": [],
   "source": [
    "mydata = ['Boat', 'Car', 'Bike', 'Truck']\n",
    "\n",
    "myseries1 = pd.Series(mydata)"
   ]
  },
  {
   "cell_type": "code",
   "execution_count": null,
   "metadata": {
    "execution": {
     "iopub.execute_input": "2021-12-26T17:12:29.018336Z",
     "iopub.status.busy": "2021-12-26T17:12:29.017686Z",
     "iopub.status.idle": "2021-12-26T17:12:29.034267Z",
     "shell.execute_reply": "2021-12-26T17:12:29.033173Z",
     "shell.execute_reply.started": "2021-12-26T17:12:29.018304Z"
    }
   },
   "outputs": [],
   "source": [
    "print(myseries1)"
   ]
  },
  {
   "cell_type": "code",
   "execution_count": null,
   "metadata": {
    "execution": {
     "iopub.execute_input": "2021-12-26T17:12:29.035897Z",
     "iopub.status.busy": "2021-12-26T17:12:29.035696Z",
     "iopub.status.idle": "2021-12-26T17:12:29.051367Z",
     "shell.execute_reply": "2021-12-26T17:12:29.050189Z",
     "shell.execute_reply.started": "2021-12-26T17:12:29.035861Z"
    }
   },
   "outputs": [],
   "source": [
    "mydata = [1, 55, 99, 43]\n",
    "myseries2 = pd.Series(mydata)\n",
    "print(myseries2)"
   ]
  },
  {
   "cell_type": "markdown",
   "metadata": {},
   "source": [
    "## DataFrame"
   ]
  },
  {
   "cell_type": "code",
   "execution_count": null,
   "metadata": {
    "execution": {
     "iopub.execute_input": "2021-12-26T17:12:29.054383Z",
     "iopub.status.busy": "2021-12-26T17:12:29.052286Z",
     "iopub.status.idle": "2021-12-26T17:12:29.080709Z",
     "shell.execute_reply": "2021-12-26T17:12:29.080229Z",
     "shell.execute_reply.started": "2021-12-26T17:12:29.05434Z"
    }
   },
   "outputs": [],
   "source": [
    "mydfdata = [('Boat', 1), ('Car', 55), ('Bike',99), ('Truck', 43)]\n",
    "\n",
    "mydf = pd.DataFrame(mydfdata, columns=['thing', 'count'])\n",
    "\n",
    "mydf"
   ]
  },
  {
   "cell_type": "code",
   "execution_count": null,
   "metadata": {
    "execution": {
     "iopub.execute_input": "2021-12-26T17:12:29.082663Z",
     "iopub.status.busy": "2021-12-26T17:12:29.08241Z",
     "iopub.status.idle": "2021-12-26T17:12:29.090322Z",
     "shell.execute_reply": "2021-12-26T17:12:29.089303Z",
     "shell.execute_reply.started": "2021-12-26T17:12:29.08264Z"
    }
   },
   "outputs": [],
   "source": [
    "mydf.dtypes"
   ]
  },
  {
   "cell_type": "markdown",
   "metadata": {},
   "source": [
    "# Reading in Data"
   ]
  },
  {
   "cell_type": "code",
   "execution_count": null,
   "metadata": {
    "execution": {
     "iopub.execute_input": "2021-12-26T17:12:29.091622Z",
     "iopub.status.busy": "2021-12-26T17:12:29.09136Z",
     "iopub.status.idle": "2021-12-26T17:12:29.125857Z",
     "shell.execute_reply": "2021-12-26T17:12:29.124465Z",
     "shell.execute_reply.started": "2021-12-26T17:12:29.091598Z"
    }
   },
   "outputs": [],
   "source": [
    "df = pd.read_csv('MrBeast_youtube_stats.csv')"
   ]
  },
  {
   "cell_type": "markdown",
   "metadata": {},
   "source": [
    "# Basic Inspect The Data"
   ]
  },
  {
   "cell_type": "code",
   "execution_count": null,
   "metadata": {
    "execution": {
     "iopub.execute_input": "2021-12-26T17:12:29.127481Z",
     "iopub.status.busy": "2021-12-26T17:12:29.127286Z",
     "iopub.status.idle": "2021-12-26T17:12:29.158616Z",
     "shell.execute_reply": "2021-12-26T17:12:29.157491Z",
     "shell.execute_reply.started": "2021-12-26T17:12:29.127454Z"
    }
   },
   "outputs": [],
   "source": [
    "df.head()"
   ]
  },
  {
   "cell_type": "code",
   "execution_count": null,
   "metadata": {
    "execution": {
     "iopub.execute_input": "2021-12-26T17:12:29.162364Z",
     "iopub.status.busy": "2021-12-26T17:12:29.161349Z",
     "iopub.status.idle": "2021-12-26T17:12:29.191289Z",
     "shell.execute_reply": "2021-12-26T17:12:29.190603Z",
     "shell.execute_reply.started": "2021-12-26T17:12:29.162328Z"
    }
   },
   "outputs": [],
   "source": [
    "df.tail()"
   ]
  },
  {
   "cell_type": "code",
   "execution_count": null,
   "metadata": {
    "execution": {
     "iopub.execute_input": "2021-12-26T17:12:29.192817Z",
     "iopub.status.busy": "2021-12-26T17:12:29.192577Z",
     "iopub.status.idle": "2021-12-26T17:12:29.199765Z",
     "shell.execute_reply": "2021-12-26T17:12:29.199044Z",
     "shell.execute_reply.started": "2021-12-26T17:12:29.192788Z"
    }
   },
   "outputs": [],
   "source": [
    "df.dtypes"
   ]
  },
  {
   "cell_type": "code",
   "execution_count": null,
   "metadata": {
    "execution": {
     "iopub.execute_input": "2021-12-26T17:12:29.201084Z",
     "iopub.status.busy": "2021-12-26T17:12:29.200906Z",
     "iopub.status.idle": "2021-12-26T17:12:29.255509Z",
     "shell.execute_reply": "2021-12-26T17:12:29.254784Z",
     "shell.execute_reply.started": "2021-12-26T17:12:29.201062Z"
    }
   },
   "outputs": [],
   "source": [
    "df.describe()"
   ]
  },
  {
   "cell_type": "code",
   "execution_count": null,
   "metadata": {},
   "outputs": [],
   "source": [
    "df.info()"
   ]
  },
  {
   "cell_type": "code",
   "execution_count": null,
   "metadata": {},
   "outputs": [],
   "source": [
    "df['column name'].value_counts()"
   ]
  },
  {
   "cell_type": "code",
   "execution_count": null,
   "metadata": {},
   "outputs": [],
   "source": [
    "df['column name'].unique()"
   ]
  },
  {
   "cell_type": "code",
   "execution_count": null,
   "metadata": {},
   "outputs": [],
   "source": [
    "df_profile = ProfileReport(df)"
   ]
  },
  {
   "cell_type": "markdown",
   "metadata": {},
   "source": [
    "##### Dealing with NULL"
   ]
  },
  {
   "cell_type": "code",
   "execution_count": null,
   "metadata": {},
   "outputs": [],
   "source": [
    "df.isnull().sum()"
   ]
  },
  {
   "cell_type": "code",
   "execution_count": null,
   "metadata": {},
   "outputs": [],
   "source": [
    "df.dropna(inplace=True)"
   ]
  },
  {
   "cell_type": "code",
   "execution_count": null,
   "metadata": {},
   "outputs": [],
   "source": [
    "#Show sapcific column null vslues\n",
    "\n",
    "df[df['column name'].isnull()]"
   ]
  },
  {
   "cell_type": "code",
   "execution_count": null,
   "metadata": {},
   "outputs": [],
   "source": [
    "## Repalce Null values with their mean value\n",
    "\n",
    "count_mean = df['column name'].mean()\n",
    "df['column name'].replace(np.nan, count_mean, inpIace=True)"
   ]
  },
  {
   "cell_type": "markdown",
   "metadata": {},
   "source": [
    "##### Dealing with Duplicate"
   ]
  },
  {
   "cell_type": "code",
   "execution_count": null,
   "metadata": {},
   "outputs": [],
   "source": [
    "df.duplicated().sum()"
   ]
  },
  {
   "cell_type": "code",
   "execution_count": null,
   "metadata": {},
   "outputs": [],
   "source": [
    "#By default, it removes duplicate rows based on all columns.\n",
    "df.drop_duplicates()"
   ]
  },
  {
   "cell_type": "code",
   "execution_count": null,
   "metadata": {},
   "outputs": [],
   "source": [
    "#To remove duplicates on specific column(s), use [subset].\n",
    "df.drop_duplicates(subset=['column name'])"
   ]
  },
  {
   "cell_type": "markdown",
   "metadata": {},
   "source": [
    "# Columns and Rows"
   ]
  },
  {
   "cell_type": "code",
   "execution_count": null,
   "metadata": {
    "execution": {
     "iopub.execute_input": "2021-12-26T17:12:29.257081Z",
     "iopub.status.busy": "2021-12-26T17:12:29.25671Z",
     "iopub.status.idle": "2021-12-26T17:12:29.265196Z",
     "shell.execute_reply": "2021-12-26T17:12:29.264319Z",
     "shell.execute_reply.started": "2021-12-26T17:12:29.257034Z"
    }
   },
   "outputs": [],
   "source": [
    "df['viewCount']"
   ]
  },
  {
   "cell_type": "code",
   "execution_count": null,
   "metadata": {},
   "outputs": [],
   "source": [
    "df['viewCount'][0]"
   ]
  },
  {
   "cell_type": "code",
   "execution_count": null,
   "metadata": {
    "execution": {
     "iopub.execute_input": "2021-12-26T17:12:29.266811Z",
     "iopub.status.busy": "2021-12-26T17:12:29.266351Z",
     "iopub.status.idle": "2021-12-26T17:12:29.28509Z",
     "shell.execute_reply": "2021-12-26T17:12:29.283926Z",
     "shell.execute_reply.started": "2021-12-26T17:12:29.266787Z"
    }
   },
   "outputs": [],
   "source": [
    "df.loc[4]"
   ]
  },
  {
   "cell_type": "markdown",
   "metadata": {},
   "source": [
    "#### Set ID Columns as Index"
   ]
  },
  {
   "cell_type": "code",
   "execution_count": null,
   "metadata": {
    "execution": {
     "iopub.execute_input": "2021-12-26T17:12:29.286872Z",
     "iopub.status.busy": "2021-12-26T17:12:29.286447Z",
     "iopub.status.idle": "2021-12-26T17:12:29.299265Z",
     "shell.execute_reply": "2021-12-26T17:12:29.298542Z",
     "shell.execute_reply.started": "2021-12-26T17:12:29.286838Z"
    }
   },
   "outputs": [],
   "source": [
    "df = df.set_index('id')"
   ]
  },
  {
   "cell_type": "markdown",
   "metadata": {},
   "source": [
    "#### Update Values in the Column"
   ]
  },
  {
   "cell_type": "code",
   "execution_count": null,
   "metadata": {},
   "outputs": [],
   "source": [
    "#Here this will assign  1st 5 columns values = 10\n",
    "df['column name'][0:5]=10"
   ]
  },
  {
   "cell_type": "markdown",
   "metadata": {},
   "source": [
    "#### Rename and Drop Columns"
   ]
  },
  {
   "cell_type": "code",
   "execution_count": null,
   "metadata": {},
   "outputs": [],
   "source": [
    "df.rename(columns = {'Old column name' : 'New Column name'})"
   ]
  },
  {
   "cell_type": "code",
   "execution_count": null,
   "metadata": {},
   "outputs": [],
   "source": [
    "df.drop(['column name 1' , 'column name 2'], axis=1, inplace=True)"
   ]
  },
  {
   "cell_type": "markdown",
   "metadata": {},
   "source": [
    "# Subsetting Data"
   ]
  },
  {
   "cell_type": "code",
   "execution_count": null,
   "metadata": {
    "execution": {
     "iopub.execute_input": "2021-12-26T17:12:29.301638Z",
     "iopub.status.busy": "2021-12-26T17:12:29.301349Z",
     "iopub.status.idle": "2021-12-26T17:12:29.318681Z",
     "shell.execute_reply": "2021-12-26T17:12:29.317861Z",
     "shell.execute_reply.started": "2021-12-26T17:12:29.301607Z"
    }
   },
   "outputs": [],
   "source": [
    "df.shape"
   ]
  },
  {
   "cell_type": "code",
   "execution_count": null,
   "metadata": {},
   "outputs": [],
   "source": [
    "df.columns"
   ]
  },
  {
   "cell_type": "code",
   "execution_count": null,
   "metadata": {
    "execution": {
     "iopub.execute_input": "2021-12-26T17:12:29.320243Z",
     "iopub.status.busy": "2021-12-26T17:12:29.319711Z",
     "iopub.status.idle": "2021-12-26T17:12:29.337768Z",
     "shell.execute_reply": "2021-12-26T17:12:29.336184Z",
     "shell.execute_reply.started": "2021-12-26T17:12:29.320219Z"
    }
   },
   "outputs": [],
   "source": [
    "# Subsetting Columns\n",
    "df = df[['title', 'description', 'publishTime',\n",
    "         'duration_seconds', 'viewCount', 'likeCount',\n",
    "         'commentCount']]"
   ]
  },
  {
   "cell_type": "code",
   "execution_count": null,
   "metadata": {
    "execution": {
     "iopub.execute_input": "2021-12-26T17:12:29.3415Z",
     "iopub.status.busy": "2021-12-26T17:12:29.340904Z",
     "iopub.status.idle": "2021-12-26T17:12:29.35176Z",
     "shell.execute_reply": "2021-12-26T17:12:29.351103Z",
     "shell.execute_reply.started": "2021-12-26T17:12:29.341465Z"
    }
   },
   "outputs": [],
   "source": [
    "# Subsetting using loc\n",
    "df_subset1 = df.loc[df['viewCount'] > 1_000_000]"
   ]
  },
  {
   "cell_type": "code",
   "execution_count": null,
   "metadata": {
    "execution": {
     "iopub.execute_input": "2021-12-26T17:12:29.353872Z",
     "iopub.status.busy": "2021-12-26T17:12:29.353327Z",
     "iopub.status.idle": "2021-12-26T17:12:29.369436Z",
     "shell.execute_reply": "2021-12-26T17:12:29.368025Z",
     "shell.execute_reply.started": "2021-12-26T17:12:29.353844Z"
    }
   },
   "outputs": [],
   "source": [
    "df_subset2 = df.query('viewCount > 1000000')"
   ]
  },
  {
   "cell_type": "code",
   "execution_count": null,
   "metadata": {
    "execution": {
     "iopub.execute_input": "2021-12-26T17:12:29.370816Z",
     "iopub.status.busy": "2021-12-26T17:12:29.370531Z",
     "iopub.status.idle": "2021-12-26T17:12:29.384959Z",
     "shell.execute_reply": "2021-12-26T17:12:29.384243Z",
     "shell.execute_reply.started": "2021-12-26T17:12:29.370793Z"
    }
   },
   "outputs": [],
   "source": [
    "df = df.loc[~df['likeCount'].isna()]"
   ]
  },
  {
   "cell_type": "markdown",
   "metadata": {},
   "source": [
    "# Casting dtypes"
   ]
  },
  {
   "cell_type": "code",
   "execution_count": null,
   "metadata": {
    "execution": {
     "iopub.execute_input": "2021-12-26T17:14:53.234309Z",
     "iopub.status.busy": "2021-12-26T17:14:53.233809Z",
     "iopub.status.idle": "2021-12-26T17:14:53.239132Z",
     "shell.execute_reply": "2021-12-26T17:14:53.238319Z",
     "shell.execute_reply.started": "2021-12-26T17:14:53.234278Z"
    }
   },
   "outputs": [],
   "source": [
    "df['viewCount'] = df['viewCount'].astype('int')\n",
    "df['likeCount'] = df['likeCount'].astype('int')"
   ]
  },
  {
   "cell_type": "markdown",
   "metadata": {},
   "source": [
    "#### Covert to datetime datatypes"
   ]
  },
  {
   "cell_type": "code",
   "execution_count": null,
   "metadata": {
    "execution": {
     "iopub.execute_input": "2021-12-26T17:16:13.047644Z",
     "iopub.status.busy": "2021-12-26T17:16:13.047368Z",
     "iopub.status.idle": "2021-12-26T17:16:13.05494Z",
     "shell.execute_reply": "2021-12-26T17:16:13.05341Z",
     "shell.execute_reply.started": "2021-12-26T17:16:13.047615Z"
    }
   },
   "outputs": [],
   "source": [
    "df['publishTime'] = pd.to_datetime(df['publishTime'])"
   ]
  },
  {
   "cell_type": "markdown",
   "metadata": {},
   "source": [
    "#### Extract Month Year Day With New Columns"
   ]
  },
  {
   "cell_type": "code",
   "execution_count": null,
   "metadata": {},
   "outputs": [],
   "source": [
    "df['month'] = df['publishTime'].dt.month\n",
    "df['year'] = df['publishTime'].dt.year\n",
    "df['day'] = df['publishTime'].dt.day"
   ]
  },
  {
   "cell_type": "markdown",
   "metadata": {},
   "source": [
    "#### Edit to see our desire output in this column"
   ]
  },
  {
   "cell_type": "code",
   "execution_count": null,
   "metadata": {},
   "outputs": [],
   "source": [
    "df['publishTime']= df['publishTime'].dt.strftime('%m-%d-%y')"
   ]
  },
  {
   "cell_type": "markdown",
   "metadata": {},
   "source": [
    "#### Covert STR to Numeric datatypes"
   ]
  },
  {
   "cell_type": "code",
   "execution_count": null,
   "metadata": {
    "execution": {
     "iopub.execute_input": "2021-12-26T17:17:14.02414Z",
     "iopub.status.busy": "2021-12-26T17:17:14.023909Z",
     "iopub.status.idle": "2021-12-26T17:17:14.029885Z",
     "shell.execute_reply": "2021-12-26T17:17:14.028833Z",
     "shell.execute_reply.started": "2021-12-26T17:17:14.024116Z"
    }
   },
   "outputs": [],
   "source": [
    "df['likeCount'] = pd.to_numeric(df['likeCount'].astype('str'))"
   ]
  },
  {
   "cell_type": "markdown",
   "metadata": {},
   "source": [
    "# Creating new column"
   ]
  },
  {
   "cell_type": "code",
   "execution_count": null,
   "metadata": {
    "execution": {
     "iopub.execute_input": "2021-12-26T17:19:52.359933Z",
     "iopub.status.busy": "2021-12-26T17:19:52.359676Z",
     "iopub.status.idle": "2021-12-26T17:19:52.367027Z",
     "shell.execute_reply": "2021-12-26T17:19:52.365854Z",
     "shell.execute_reply.started": "2021-12-26T17:19:52.359909Z"
    }
   },
   "outputs": [],
   "source": [
    "df['like_to_view_ratio'] = df['likeCount'] / df['viewCount']"
   ]
  },
  {
   "cell_type": "markdown",
   "metadata": {},
   "source": [
    "#### Apply-Lambda Functiom\n"
   ]
  },
  {
   "cell_type": "code",
   "execution_count": null,
   "metadata": {},
   "outputs": [],
   "source": [
    "df['season-status '] = df['season'].apply(lambda x: \"Pleasant\" if x==1 else (\"Sunny\" if x > 0 & x <=2 else \"Hot\"))"
   ]
  },
  {
   "cell_type": "markdown",
   "metadata": {
    "execution": {
     "iopub.execute_input": "2021-12-26T17:19:56.6059Z",
     "iopub.status.busy": "2021-12-26T17:19:56.605321Z",
     "iopub.status.idle": "2021-12-26T17:19:56.61809Z",
     "shell.execute_reply": "2021-12-26T17:19:56.61661Z",
     "shell.execute_reply.started": "2021-12-26T17:19:56.605874Z"
    }
   },
   "source": [
    "# Adding new Row"
   ]
  },
  {
   "cell_type": "code",
   "execution_count": null,
   "metadata": {
    "execution": {
     "iopub.execute_input": "2021-12-26T17:20:59.67777Z",
     "iopub.status.busy": "2021-12-26T17:20:59.677524Z",
     "iopub.status.idle": "2021-12-26T17:20:59.682933Z",
     "shell.execute_reply": "2021-12-26T17:20:59.681756Z",
     "shell.execute_reply.started": "2021-12-26T17:20:59.677744Z"
    }
   },
   "outputs": [],
   "source": [
    "df_to_append = df.tail(1)"
   ]
  },
  {
   "cell_type": "code",
   "execution_count": null,
   "metadata": {
    "execution": {
     "iopub.execute_input": "2021-12-26T17:21:46.566942Z",
     "iopub.status.busy": "2021-12-26T17:21:46.566715Z",
     "iopub.status.idle": "2021-12-26T17:21:46.573342Z",
     "shell.execute_reply": "2021-12-26T17:21:46.572357Z",
     "shell.execute_reply.started": "2021-12-26T17:21:46.566919Z"
    }
   },
   "outputs": [],
   "source": [
    "df_concat = pd.concat([df, df_to_append])"
   ]
  },
  {
   "cell_type": "code",
   "execution_count": null,
   "metadata": {},
   "outputs": [],
   "source": [
    "df = df.merge(credits,on='column name')"
   ]
  },
  {
   "cell_type": "markdown",
   "metadata": {},
   "source": [
    "# Plot Examples"
   ]
  },
  {
   "cell_type": "code",
   "execution_count": null,
   "metadata": {
    "execution": {
     "iopub.execute_input": "2021-12-26T17:23:10.7307Z",
     "iopub.status.busy": "2021-12-26T17:23:10.730418Z",
     "iopub.status.idle": "2021-12-26T17:23:10.739996Z",
     "shell.execute_reply": "2021-12-26T17:23:10.738841Z",
     "shell.execute_reply.started": "2021-12-26T17:23:10.730662Z"
    }
   },
   "outputs": [],
   "source": [
    "import matplotlib.pylab as plt\n",
    "plt.style.use('ggplot')"
   ]
  },
  {
   "cell_type": "code",
   "execution_count": null,
   "metadata": {
    "execution": {
     "iopub.execute_input": "2021-12-26T17:24:15.006035Z",
     "iopub.status.busy": "2021-12-26T17:24:15.00582Z",
     "iopub.status.idle": "2021-12-26T17:24:15.310985Z",
     "shell.execute_reply": "2021-12-26T17:24:15.309561Z",
     "shell.execute_reply.started": "2021-12-26T17:24:15.006013Z"
    }
   },
   "outputs": [],
   "source": [
    "df['viewCount'].plot(kind='hist', bins=50,\n",
    "                     title='Distribution of View Count',\n",
    "                     figsize=(15, 5))"
   ]
  },
  {
   "cell_type": "code",
   "execution_count": null,
   "metadata": {
    "execution": {
     "iopub.execute_input": "2021-12-26T17:25:12.719161Z",
     "iopub.status.busy": "2021-12-26T17:25:12.71889Z",
     "iopub.status.idle": "2021-12-26T17:25:12.917779Z",
     "shell.execute_reply": "2021-12-26T17:25:12.917327Z",
     "shell.execute_reply.started": "2021-12-26T17:25:12.719119Z"
    }
   },
   "outputs": [],
   "source": [
    "df.plot(kind='scatter', x='viewCount', y='likeCount', title='View vs Like Count')"
   ]
  },
  {
   "cell_type": "code",
   "execution_count": null,
   "metadata": {
    "execution": {
     "iopub.execute_input": "2021-12-26T17:27:06.295043Z",
     "iopub.status.busy": "2021-12-26T17:27:06.29477Z",
     "iopub.status.idle": "2021-12-26T17:27:06.312823Z",
     "shell.execute_reply": "2021-12-26T17:27:06.311758Z",
     "shell.execute_reply.started": "2021-12-26T17:27:06.295011Z"
    }
   },
   "outputs": [],
   "source": [
    "df.query('likeCount > 10000000')"
   ]
  },
  {
   "cell_type": "markdown",
   "metadata": {},
   "source": [
    "## Save our output"
   ]
  },
  {
   "cell_type": "code",
   "execution_count": null,
   "metadata": {
    "execution": {
     "iopub.execute_input": "2021-12-26T17:28:09.073575Z",
     "iopub.status.busy": "2021-12-26T17:28:09.073294Z",
     "iopub.status.idle": "2021-12-26T17:28:09.084138Z",
     "shell.execute_reply": "2021-12-26T17:28:09.08289Z",
     "shell.execute_reply.started": "2021-12-26T17:28:09.073539Z"
    }
   },
   "outputs": [],
   "source": [
    "df.to_csv('processed_data.csv')"
   ]
  },
  {
   "cell_type": "code",
   "execution_count": null,
   "metadata": {},
   "outputs": [],
   "source": []
  },
  {
   "cell_type": "code",
   "execution_count": null,
   "metadata": {},
   "outputs": [],
   "source": []
  },
  {
   "cell_type": "code",
   "execution_count": null,
   "metadata": {},
   "outputs": [],
   "source": []
  }
 ],
 "metadata": {
  "kernelspec": {
   "display_name": "Python 3 (ipykernel)",
   "language": "python",
   "name": "python3"
  },
  "language_info": {
   "codemirror_mode": {
    "name": "ipython",
    "version": 3
   },
   "file_extension": ".py",
   "mimetype": "text/x-python",
   "name": "python",
   "nbconvert_exporter": "python",
   "pygments_lexer": "ipython3",
   "version": "3.9.12"
  }
 },
 "nbformat": 4,
 "nbformat_minor": 4
}
